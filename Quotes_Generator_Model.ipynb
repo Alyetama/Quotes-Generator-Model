{
  "nbformat": 4,
  "nbformat_minor": 0,
  "metadata": {
    "colab": {
      "name": "Quotes-Generator-Model.ipynb",
      "private_outputs": true,
      "provenance": [],
      "collapsed_sections": []
    },
    "kernelspec": {
      "name": "python3",
      "display_name": "Python 3"
    },
    "language_info": {
      "name": "python"
    }
  },
  "cells": [
    {
      "cell_type": "markdown",
      "source": [
        "![[Open in Colab](https://colab.research.google.com/gist/Alyetama/51e07efbe3fc3cfdbf65523734ea9b2d/quotes-generator-model.ipynb](https://colab.research.google.com/assets/colab-badge.svg)"
      ],
      "metadata": {
        "id": "ad1xlkgOVi-c"
      }
    },
    {
      "cell_type": "markdown",
      "source": [
        "# Quotes Generator Model\n",
        "\n",
        "![[GitHub](https://github.com/Alyetama/Quotes-Generator-Model)](https://i.imgur.com/lYCR411.png)  [GitHub repository](https://github.com/Alyetama/Quotes-Generator-Model)\n",
        "\n",
        "**Notebook author:** [Mohammad Alyetama](https://github.com/Alyetama)\n",
        "\n",
        "---\n",
        "\n",
        "**Models used in this notebook:**\n",
        "- [GPT-2](https://github.com/openai/gpt-2)\n"
      ],
      "metadata": {
        "id": "F3QVQ3psTbTF"
      }
    },
    {
      "cell_type": "markdown",
      "source": [
        "## Getting Started"
      ],
      "metadata": {
        "id": "_L2faHcWTKhW"
      }
    },
    {
      "cell_type": "code",
      "execution_count": null,
      "metadata": {
        "id": "fi20tGUAPzc0"
      },
      "outputs": [],
      "source": [
        "! git clone https://github.com/Alyetama/Quotes-Generator-Model.git\n",
        "%cd Quotes-Generator-Model"
      ]
    },
    {
      "cell_type": "code",
      "source": [
        "! pip install gpt_2_simple \"clean-text[gpl]\" language_tool_python \"greads>=0.7\" ray"
      ],
      "metadata": {
        "id": "urDw87KyP5QR"
      },
      "execution_count": null,
      "outputs": []
    },
    {
      "cell_type": "markdown",
      "source": [
        "## Data Pre-processing"
      ],
      "metadata": {
        "id": "NqWyxVgeTRty"
      }
    },
    {
      "cell_type": "code",
      "source": [
        "import quotes_generator_model as qgm\n",
        "\n",
        "author_name = 'Oscar Wilde'  #@param {type:\"string\"}\n",
        "\n",
        "qgm.download_model(model_name='124M')\n",
        "\n",
        "quotes = qgm.get_author_quotes(\n",
        "    author_name, enable_multiprocessing=True)\n",
        "\n",
        "qgm.preprocess_data(quotes, author_name)"
      ],
      "metadata": {
        "id": "QU5M_7nEQK3T"
      },
      "execution_count": null,
      "outputs": []
    },
    {
      "cell_type": "markdown",
      "source": [
        "## Train"
      ],
      "metadata": {
        "id": "aXms86PnTS3c"
      }
    },
    {
      "cell_type": "code",
      "source": [
        "steps = 3000  #@param {type:\"integer\"}\n",
        "run_name = 'run0'  #@param {type:\"string\"}\n",
        "save_every = 300  #@param {type:\"integer\"}\n",
        "\n",
        "qgm.train(model_name='124M',\n",
        "          steps=steps,\n",
        "          restore_from='fresh',\n",
        "          run_name=run_name,\n",
        "          print_every=10,\n",
        "          sample_every=100,\n",
        "          save_every=save_every)"
      ],
      "metadata": {
        "id": "ZOMBKiCrRwny"
      },
      "execution_count": null,
      "outputs": []
    },
    {
      "cell_type": "markdown",
      "source": [
        "## Generate"
      ],
      "metadata": {
        "id": "-JLy52FXTUlS"
      }
    },
    {
      "cell_type": "code",
      "source": [
        "checkpoint_folder_path = 'checkpoint/run0'  #@param {type:\"string\"}\n",
        "nsamples = 10  #@param {type:\"integer\"}\n",
        "\n",
        "results = qgm.generate(\n",
        "    checkpoint_folder_path=checkpoint_folder_path,\n",
        "    nsamples=nsamples)\n",
        "\n",
        "clean_results = qgm.clean_generated(results)\n",
        "clean_results"
      ],
      "metadata": {
        "id": "51Sz62r3SqJW"
      },
      "execution_count": null,
      "outputs": []
    }
  ]
}