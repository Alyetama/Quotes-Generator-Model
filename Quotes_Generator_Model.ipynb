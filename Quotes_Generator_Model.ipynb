{
  "cells": [
    {
      "cell_type": "markdown",
      "metadata": {
        "id": "ad1xlkgOVi-c"
      },
      "source": [
        "[![Open in Colab](https://colab.research.google.com/assets/colab-badge.svg)](https://colab.research.google.com/gist/Alyetama/51e07efbe3fc3cfdbf65523734ea9b2d/quotes-generator-model.ipynb)"
      ]
    },
    {
      "cell_type": "markdown",
      "metadata": {
        "id": "F3QVQ3psTbTF"
      },
      "source": [
        "# Quotes Generator Model\n",
        "\n",
        "![[GitHub](https://github.com/Alyetama/Quotes-Generator-Model)](https://i.imgur.com/lYCR411.png)  [GitHub repository](https://github.com/Alyetama/Quotes-Generator-Model)\n",
        "\n",
        "**Notebook author:** [Mohammad Alyetama](https://github.com/Alyetama)\n",
        "\n",
        "---\n",
        "\n",
        "**Models used in this notebook:**\n",
        "- [GPT-2](https://github.com/openai/gpt-2)\n"
      ]
    },
    {
      "cell_type": "markdown",
      "metadata": {
        "id": "_L2faHcWTKhW"
      },
      "source": [
        "## Getting Started"
      ]
    },
    {
      "cell_type": "code",
      "execution_count": null,
      "metadata": {
        "id": "fi20tGUAPzc0"
      },
      "outputs": [],
      "source": [
        "! git clone https://github.com/Alyetama/Quotes-Generator-Model.git\n",
        "%cd Quotes-Generator-Model"
      ]
    },
    {
      "cell_type": "code",
      "execution_count": null,
      "metadata": {
        "id": "urDw87KyP5QR"
      },
      "outputs": [],
      "source": [
        "! pip install gpt_2_simple \"clean-text[gpl]\" language_tool_python \"greads>=0.7\" ray"
      ]
    },
    {
      "cell_type": "markdown",
      "metadata": {
        "id": "NqWyxVgeTRty"
      },
      "source": [
        "## Data Pre-processing"
      ]
    },
    {
      "cell_type": "code",
      "execution_count": null,
      "metadata": {
        "id": "QU5M_7nEQK3T"
      },
      "outputs": [],
      "source": [
        "import quotes_generator_model as qgm\n",
        "\n",
        "author_name = 'Oscar Wilde'  #@param {type:\"string\"}\n",
        "\n",
        "qgm.download_model(model_name='124M')\n",
        "\n",
        "quotes = qgm.get_author_quotes(\n",
        "    author_name, enable_multiprocessing=True)\n",
        "\n",
        "qgm.preprocess_data(quotes, author_name)"
      ]
    },
    {
      "cell_type": "markdown",
      "metadata": {
        "id": "aXms86PnTS3c"
      },
      "source": [
        "## Train"
      ]
    },
    {
      "cell_type": "code",
      "execution_count": null,
      "metadata": {
        "id": "ZOMBKiCrRwny"
      },
      "outputs": [],
      "source": [
        "steps = 3000  #@param {type:\"integer\"}\n",
        "run_name = 'run0'  #@param {type:\"string\"}\n",
        "save_every = 300  #@param {type:\"integer\"}\n",
        "\n",
        "qgm.train(model_name='124M',\n",
        "          steps=steps,\n",
        "          restore_from='fresh',\n",
        "          run_name=run_name,\n",
        "          print_every=10,\n",
        "          sample_every=100,\n",
        "          save_every=save_every)"
      ]
    },
    {
      "cell_type": "markdown",
      "metadata": {
        "id": "-JLy52FXTUlS"
      },
      "source": [
        "## Generate"
      ]
    },
    {
      "cell_type": "code",
      "execution_count": null,
      "metadata": {
        "id": "51Sz62r3SqJW"
      },
      "outputs": [],
      "source": [
        "checkpoint_folder_path = 'checkpoint/run0'  #@param {type:\"string\"}\n",
        "nsamples = 10  #@param {type:\"integer\"}\n",
        "\n",
        "results = qgm.generate(\n",
        "    checkpoint_folder_path=checkpoint_folder_path,\n",
        "    nsamples=nsamples)\n",
        "\n",
        "clean_results = qgm.clean_generated(results)\n",
        "clean_results"
      ]
    }
  ],
  "metadata": {
    "colab": {
      "collapsed_sections": [],
      "name": "Quotes-Generator-Model.ipynb",
      "private_outputs": true,
      "provenance": []
    },
    "kernelspec": {
      "display_name": "Python 3",
      "name": "python3"
    },
    "language_info": {
      "name": "python"
    }
  },
  "nbformat": 4,
  "nbformat_minor": 0
}
